{
 "metadata": {
  "name": "",
  "signature": "sha256:9da32552d44c7c43a57502cca96497660614be6c7ddf5af3e7ce27b5011ea79a"
 },
 "nbformat": 3,
 "nbformat_minor": 0,
 "worksheets": [
  {
   "cells": [
    {
     "cell_type": "markdown",
     "metadata": {},
     "source": [
      "QuDotPy Tutorial\n",
      "================\n",
      "\n",
      "Welcome to the QuDotPy Tutorial! This is meant to be an interactive tutorial where you learn about the QuDotPy library through examples. Please see the README file for installation instructions, the only external dependency is numpy. Once you have QuDotPy on your machine its time to start exploring quantum computation!\n",
      "This is not an introduction to quantum computing or quantum mechanics (Although that is something I am working on, stay tuned...).\n",
      "This is meant to show you how to use QuDotPy to **DO** quantum computing. QuDotPy can be used to explore basic qubits, build arbitrary quantum states, emulate measurement/collapse, apply quantum gates to quantum states, build your own gates and to build quantum circuits. So lets get started and import qudotpy:"
     ]
    },
    {
     "cell_type": "code",
     "collapsed": false,
     "input": [
      "from qudotpy import qudot"
     ],
     "language": "python",
     "metadata": {},
     "outputs": [],
     "prompt_number": 1
    },
    {
     "cell_type": "heading",
     "level": 2,
     "metadata": {},
     "source": [
      "Fun with QuBits"
     ]
    },
    {
     "cell_type": "markdown",
     "metadata": {},
     "source": [
      "The most fundamental property of quantum computing is the qubit. This is a *two level quantum system* which is a bunch of fancy words for saying it is something that can have two possible values. You can call those two values what you like, but the standard is to call them |0> and |1> (The Computational Basis) or |+> and |-> (The Hadamard Basis). QuDotPy supports qubits through the QuBit class. We support both the computation and Hadamard basis. The QuBit class is meant to represent a single-qubit system. Multiple-qubit systems are described further down this tutorial. QuDotPy displays qubits using Dirac Notation. They are stored as numpy arrays and the underlying array can be access with the *state* and *adjoint* properties."
     ]
    },
    {
     "cell_type": "heading",
     "level": 4,
     "metadata": {},
     "source": [
      "Computational Basis"
     ]
    },
    {
     "cell_type": "code",
     "collapsed": false,
     "input": [
      "print qudot.ZERO"
     ],
     "language": "python",
     "metadata": {},
     "outputs": [
      {
       "output_type": "stream",
       "stream": "stdout",
       "text": [
        "|0>\n"
       ]
      }
     ],
     "prompt_number": 7
    },
    {
     "cell_type": "code",
     "collapsed": false,
     "input": [
      "print qudot.ZERO.state"
     ],
     "language": "python",
     "metadata": {},
     "outputs": [
      {
       "output_type": "stream",
       "stream": "stdout",
       "text": [
        "[[1]\n",
        " [0]]\n"
       ]
      }
     ],
     "prompt_number": 8
    },
    {
     "cell_type": "code",
     "collapsed": false,
     "input": [
      "print qudot.ZERO.adjoint"
     ],
     "language": "python",
     "metadata": {},
     "outputs": [
      {
       "output_type": "stream",
       "stream": "stdout",
       "text": [
        "[[1 0]]\n"
       ]
      }
     ],
     "prompt_number": 9
    },
    {
     "cell_type": "code",
     "collapsed": false,
     "input": [
      "print qudot.ONE"
     ],
     "language": "python",
     "metadata": {},
     "outputs": [
      {
       "output_type": "stream",
       "stream": "stdout",
       "text": [
        "|1>\n"
       ]
      }
     ],
     "prompt_number": 10
    },
    {
     "cell_type": "code",
     "collapsed": false,
     "input": [
      "print qudot.ONE.state"
     ],
     "language": "python",
     "metadata": {},
     "outputs": [
      {
       "output_type": "stream",
       "stream": "stdout",
       "text": [
        "[[0]\n",
        " [1]]\n"
       ]
      }
     ],
     "prompt_number": 11
    },
    {
     "cell_type": "code",
     "collapsed": false,
     "input": [
      "print qudot.ONE.adjoint"
     ],
     "language": "python",
     "metadata": {},
     "outputs": [
      {
       "output_type": "stream",
       "stream": "stdout",
       "text": [
        "[[0 1]]\n"
       ]
      }
     ],
     "prompt_number": 13
    },
    {
     "cell_type": "heading",
     "level": 4,
     "metadata": {},
     "source": [
      "Hadamard Basis"
     ]
    },
    {
     "cell_type": "code",
     "collapsed": false,
     "input": [
      "print qudot.PLUS"
     ],
     "language": "python",
     "metadata": {},
     "outputs": [
      {
       "output_type": "stream",
       "stream": "stdout",
       "text": [
        "|+>\n"
       ]
      }
     ],
     "prompt_number": 14
    },
    {
     "cell_type": "code",
     "collapsed": false,
     "input": [
      "print qudot.PLUS.state"
     ],
     "language": "python",
     "metadata": {},
     "outputs": [
      {
       "output_type": "stream",
       "stream": "stdout",
       "text": [
        "[[ 0.70710678]\n",
        " [ 0.70710678]]\n"
       ]
      }
     ],
     "prompt_number": 15
    },
    {
     "cell_type": "code",
     "collapsed": false,
     "input": [
      "print qudot.PLUS.adjoint"
     ],
     "language": "python",
     "metadata": {},
     "outputs": [
      {
       "output_type": "stream",
       "stream": "stdout",
       "text": [
        "[[ 0.70710678  0.70710678]]\n"
       ]
      }
     ],
     "prompt_number": 16
    },
    {
     "cell_type": "code",
     "collapsed": false,
     "input": [
      "print qudot.MINUS"
     ],
     "language": "python",
     "metadata": {},
     "outputs": [
      {
       "output_type": "stream",
       "stream": "stdout",
       "text": [
        "|->\n"
       ]
      }
     ],
     "prompt_number": 17
    },
    {
     "cell_type": "code",
     "collapsed": false,
     "input": [
      "print qudot.MINUS.state"
     ],
     "language": "python",
     "metadata": {},
     "outputs": [
      {
       "output_type": "stream",
       "stream": "stdout",
       "text": [
        "[[ 0.70710678]\n",
        " [-0.70710678]]\n"
       ]
      }
     ],
     "prompt_number": 18
    },
    {
     "cell_type": "code",
     "collapsed": false,
     "input": [
      "print qudot.MINUS.adjoint"
     ],
     "language": "python",
     "metadata": {},
     "outputs": [
      {
       "output_type": "stream",
       "stream": "stdout",
       "text": [
        "[[ 0.70710678 -0.70710678]]\n"
       ]
      }
     ],
     "prompt_number": 20
    },
    {
     "cell_type": "heading",
     "level": 6,
     "metadata": {},
     "source": [
      "\n",
      "\n",
      "QuDotPy also has overidden equality operators for qubits so you can use == and != to test them"
     ]
    },
    {
     "cell_type": "code",
     "collapsed": false,
     "input": [
      "print qudot.PLUS == qudot.PLUS\n",
      "print qudot.PLUS == qudot.ONE\n",
      "print qudot.ONE != qudot.MINUS\n",
      "print qudot.ONE != qudot.ONE\n",
      "print qudot.ONE == qudot.QuBit(\"1\")\n",
      "print qudot.MINUS == qudot.QuBit(\"-\")"
     ],
     "language": "python",
     "metadata": {},
     "outputs": [
      {
       "output_type": "stream",
       "stream": "stdout",
       "text": [
        "True\n",
        "False\n",
        "True\n",
        "False\n",
        "True\n",
        "True\n"
       ]
      }
     ],
     "prompt_number": 25
    },
    {
     "cell_type": "heading",
     "level": 2,
     "metadata": {},
     "source": [
      "Fun with Quantum Gates"
     ]
    },
    {
     "cell_type": "markdown",
     "metadata": {},
     "source": [
      "Quantum gates are the main logical units in quantum computing, much like the logic gates of classical computing (AND, OR, XOR etc). QuDotPy has predefined gates:\n",
      "\n",
      "* qudot.H: Hadamard Gate\n",
      "* qudot.X: Pauli-X Gate\n",
      "* qudot.Z: Pauli-Z Gate\n",
      "* qudot.Y: Pauli-Y Gate\n",
      "* qudot.CNOT: CNOT Gate\n",
      "\n",
      "Also, you can create custom quantum gates via the **QuGate** class. There are multiple ways to initialize a custom QuGate. You can initialize through a string representation of the gate, through a multiplication of existing gates, or through a tensor product of existing gates. For example, the string representation for the Z gate is **(\"1 0; 0 -1\")**. We do require that quantum gates are *unitary transformations*. This is again fancy talk that says the gate changes (transforms) the qubit into another qubit but preserves the angle between qubits. A QuGate is represented as a numpy matrix. You can access two properties: *matrix* and *dagger*. matrix returns the matrix representation of the gate and dagger returns the Hermitian of the matrix.\n",
      "\n",
      "You apply a gate to a qubit or a quantum state (quantum states are covered later). To apply a gate to a qubit and return the result use the module level *apply_gate* method. This will apply the gate to the input and return a new state as output. Lastly, we override the == and != operators so you can test gate equality."
     ]
    },
    {
     "cell_type": "heading",
     "level": 4,
     "metadata": {},
     "source": [
      "The Hadamard Gate"
     ]
    },
    {
     "cell_type": "code",
     "collapsed": false,
     "input": [
      "print qudot.H.matrix"
     ],
     "language": "python",
     "metadata": {},
     "outputs": [
      {
       "output_type": "stream",
       "stream": "stdout",
       "text": [
        "[[ 0.70710678+0.j  0.70710678+0.j]\n",
        " [ 0.70710678+0.j -0.70710678+0.j]]\n"
       ]
      }
     ],
     "prompt_number": 26
    },
    {
     "cell_type": "code",
     "collapsed": false,
     "input": [
      "H_zero = qudot.apply_gate(qudot.H, qudot.ZERO)\n",
      "print H_zero\n",
      "print H_zero == qudot.PLUS"
     ],
     "language": "python",
     "metadata": {},
     "outputs": [
      {
       "output_type": "stream",
       "stream": "stdout",
       "text": [
        "(0.707106781187+0j)|0> + (0.707106781187+0j)|1>\n",
        "True\n"
       ]
      }
     ],
     "prompt_number": 27
    },
    {
     "cell_type": "code",
     "collapsed": false,
     "input": [
      "H_one = qudot.apply_gate(qudot.H, qudot.ONE)\n",
      "print H_one\n",
      "print H_one == qudot.MINUS"
     ],
     "language": "python",
     "metadata": {},
     "outputs": [
      {
       "output_type": "stream",
       "stream": "stdout",
       "text": [
        "(0.707106781187+0j)|0> + (-0.707106781187+0j)|1>\n",
        "True\n"
       ]
      }
     ],
     "prompt_number": 28
    },
    {
     "cell_type": "markdown",
     "metadata": {},
     "source": [
      "But the Hadamard Gate is its own inverse, so we should be able to run the computation again and get back the original result"
     ]
    },
    {
     "cell_type": "code",
     "collapsed": false,
     "input": [
      "H_one = qudot.apply_gate(qudot.H, H_one)\n",
      "print H_one\n",
      "print H_one == qudot.ONE"
     ],
     "language": "python",
     "metadata": {},
     "outputs": [
      {
       "output_type": "stream",
       "stream": "stdout",
       "text": [
        "(1+0j)|1>\n",
        "True\n"
       ]
      }
     ],
     "prompt_number": 29
    },
    {
     "cell_type": "markdown",
     "metadata": {},
     "source": [
      "YAY! Quantum computing works!"
     ]
    },
    {
     "cell_type": "heading",
     "level": 4,
     "metadata": {},
     "source": [
      "Pauli Gates"
     ]
    },
    {
     "cell_type": "code",
     "collapsed": false,
     "input": [
      "print qudot.X.matrix"
     ],
     "language": "python",
     "metadata": {},
     "outputs": [
      {
       "output_type": "stream",
       "stream": "stdout",
       "text": [
        "[[ 0.+0.j  1.+0.j]\n",
        " [ 1.+0.j  0.+0.j]]\n"
       ]
      }
     ],
     "prompt_number": 30
    },
    {
     "cell_type": "code",
     "collapsed": false,
     "input": [
      "print qudot.Y.matrix"
     ],
     "language": "python",
     "metadata": {},
     "outputs": [
      {
       "output_type": "stream",
       "stream": "stdout",
       "text": [
        "[[ 0.+0.j  0.+1.j]\n",
        " [ 0.-1.j  0.+0.j]]\n"
       ]
      }
     ],
     "prompt_number": 31
    },
    {
     "cell_type": "code",
     "collapsed": false,
     "input": [
      "print qudot.Y.dagger"
     ],
     "language": "python",
     "metadata": {},
     "outputs": [
      {
       "output_type": "stream",
       "stream": "stdout",
       "text": [
        "[[ 0.-0.j  0.+1.j]\n",
        " [ 0.-1.j  0.-0.j]]\n"
       ]
      }
     ],
     "prompt_number": 32
    },
    {
     "cell_type": "code",
     "collapsed": false,
     "input": [
      "X_zero = qudot.apply_gate(qudot.X, qudot.ZERO)\n",
      "print X_zero\n",
      "print X_zero == qudot.ONE"
     ],
     "language": "python",
     "metadata": {},
     "outputs": [
      {
       "output_type": "stream",
       "stream": "stdout",
       "text": [
        "(1+0j)|1>\n",
        "True\n"
       ]
      }
     ],
     "prompt_number": 33
    },
    {
     "cell_type": "code",
     "collapsed": false,
     "input": [
      "X_plus = qudot.apply_gate(qudot.X, qudot.PLUS)\n",
      "print X_plus\n",
      "print X_plus == qudot.PLUS"
     ],
     "language": "python",
     "metadata": {},
     "outputs": [
      {
       "output_type": "stream",
       "stream": "stdout",
       "text": [
        "(0.707106781187+0j)|0> + (0.707106781187+0j)|1>\n",
        "True\n"
       ]
      }
     ],
     "prompt_number": 34
    },
    {
     "cell_type": "code",
     "collapsed": false,
     "input": [
      "Z_zero = qudot.apply_gate(qudot.Z, qudot.ZERO)\n",
      "print Z_zero"
     ],
     "language": "python",
     "metadata": {},
     "outputs": [
      {
       "output_type": "stream",
       "stream": "stdout",
       "text": [
        "(1+0j)|0>\n"
       ]
      }
     ],
     "prompt_number": 37
    },
    {
     "cell_type": "code",
     "collapsed": false,
     "input": [
      "Z_one = qudot.apply_gate(qudot.Z, qudot.ONE)\n",
      "print Z_one"
     ],
     "language": "python",
     "metadata": {},
     "outputs": [
      {
       "output_type": "stream",
       "stream": "stdout",
       "text": [
        "(-1+0j)|1>\n"
       ]
      }
     ],
     "prompt_number": 38
    },
    {
     "cell_type": "heading",
     "level": 4,
     "metadata": {},
     "source": [
      "Custom Gates"
     ]
    },
    {
     "cell_type": "markdown",
     "metadata": {},
     "source": [
      "Now the quantum computing books tell you that these identites are true:\n",
      "\n",
      "* HXH = Z\n",
      "* HZH = X\n",
      "* HYH = -Y\n",
      "\n",
      "Shall we test this? I think so:"
     ]
    },
    {
     "cell_type": "code",
     "collapsed": false,
     "input": [
      "test_1 = qudot.QuGate.init_from_mul([qudot.H, qudot.X, qudot.H])\n",
      "print test_1 == qudot.Z"
     ],
     "language": "python",
     "metadata": {},
     "outputs": [
      {
       "output_type": "stream",
       "stream": "stdout",
       "text": [
        "True\n"
       ]
      }
     ],
     "prompt_number": 4
    },
    {
     "cell_type": "code",
     "collapsed": false,
     "input": [
      "test_2 = qudot.QuGate.init_from_mul([qudot.H, qudot.Z, qudot.H])\n",
      "print test_2 == qudot.X"
     ],
     "language": "python",
     "metadata": {},
     "outputs": [
      {
       "output_type": "stream",
       "stream": "stdout",
       "text": [
        "True\n"
       ]
      }
     ],
     "prompt_number": 5
    },
    {
     "cell_type": "code",
     "collapsed": false,
     "input": [
      "minus_Y = qudot.QuGate.init_from_str('0 1j; -1j 0')\n",
      "test_3 = qudot.QuGate.init_from_mul([qudot.H, qudot.Y, qudot.H])\n",
      "print minus_Y == test_3\n",
      "print test_3 == qudot.Y"
     ],
     "language": "python",
     "metadata": {},
     "outputs": [
      {
       "output_type": "stream",
       "stream": "stdout",
       "text": [
        "True\n",
        "False\n"
       ]
      }
     ],
     "prompt_number": 7
    },
    {
     "cell_type": "markdown",
     "metadata": {},
     "source": [
      "Well, I guess they were right..."
     ]
    },
    {
     "cell_type": "heading",
     "level": 2,
     "metadata": {},
     "source": [
      "Fun with QuState: the Arbitrary Quantum State"
     ]
    },
    {
     "cell_type": "markdown",
     "metadata": {},
     "source": [
      "So far we have been working with single-qubit systems represented by the QuBit class, such as |0> or |+>. Now it's time to have some real fun with multiple-qubit systems. Multiple-qubit systems are combinations of single-qubit systems, a|001> + b|100> + c|111> is an example of such a system. QuDotPy has a class called QuState to represent such systems. QuState is the main workhorse of QuDotPy, it supports creating multiple-qubit states from various input, can make measurement predictions, can measure and collapse the state, and can apply a gate to the state. There are two basic properties that give you information about the size of the QuState:\n",
      "\n",
      "* num_qubits: this tells you how many qubits the state is built from. |01000> would be 5 qubits\n",
      "* hilbert_dimension: this tells you the dimensionality of the associated Hilbert Space, a.k.a how many elements your state vector has\n",
      "\n",
      "So lets see QuState in action by initializing some quantum states. There are five different ways to init a QuState:\n",
      "\n",
      "1. init from a state map QuState(state_map): This is the default initialization method as is the most extensible. The input is a map whose keys are the states and values are the probability amplitudes.\n",
      "\n",
      "2. init from a list of states QuState.init_from_state_list([list_of_states]): This is a convenience class method that will create a QuState with the states specified in *list_of_states* and equal probability amplitudes.\n",
      "\n",
      "3. init superposition QuState.init_superposition(dimension): This is a convenience class method that will create a QuState that is a superposition of all states in the Hilbert space of the specified *dimension*\n",
      "\n",
      "4. init from vector QuState.init_from_vector(column_vector): This is a convenience class method that will create a QuState from the specified *column_vector*, which is expected to have the form of a numpy column_vector\n",
      "\n",
      "5. init zeros QuState.init_zeros(num_bits): This is a convenience class method that will create a QuState which has just one state, the |0...n> state. The number of zeros is determined by num_bits"
     ]
    },
    {
     "cell_type": "code",
     "collapsed": false,
     "input": [
      "state_1 = qudot.QuState({\"0000\": .5, \"0010\": .5, \"0100\": .5, \"0110\": .5})\n",
      "print state_1"
     ],
     "language": "python",
     "metadata": {},
     "outputs": [
      {
       "output_type": "stream",
       "stream": "stdout",
       "text": [
        "0.5|0000> + 0.5|0010> + 0.5|0100> + 0.5|0110>\n"
       ]
      }
     ],
     "prompt_number": 2
    },
    {
     "cell_type": "code",
     "collapsed": false,
     "input": [
      "print state_1.num_qubits\n",
      "print state_1.hilbert_dimension"
     ],
     "language": "python",
     "metadata": {},
     "outputs": [
      {
       "output_type": "stream",
       "stream": "stdout",
       "text": [
        "4\n",
        "16\n"
       ]
      }
     ],
     "prompt_number": 3
    },
    {
     "cell_type": "code",
     "collapsed": false,
     "input": [
      "print state_1.state"
     ],
     "language": "python",
     "metadata": {},
     "outputs": [
      {
       "output_type": "stream",
       "stream": "stdout",
       "text": [
        "[[ 0.5]\n",
        " [ 0. ]\n",
        " [ 0.5]\n",
        " [ 0. ]\n",
        " [ 0.5]\n",
        " [ 0. ]\n",
        " [ 0.5]\n",
        " [ 0. ]\n",
        " [ 0. ]\n",
        " [ 0. ]\n",
        " [ 0. ]\n",
        " [ 0. ]\n",
        " [ 0. ]\n",
        " [ 0. ]\n",
        " [ 0. ]\n",
        " [ 0. ]]\n"
       ]
      }
     ],
     "prompt_number": 4
    },
    {
     "cell_type": "code",
     "collapsed": false,
     "input": [
      "print state_1.adjoint"
     ],
     "language": "python",
     "metadata": {},
     "outputs": [
      {
       "output_type": "stream",
       "stream": "stdout",
       "text": [
        "[[ 0.5  0.   0.5  0.   0.5  0.   0.5  0.   0.   0.   0.   0.   0.   0.   0.\n",
        "   0. ]]\n"
       ]
      }
     ],
     "prompt_number": 5
    },
    {
     "cell_type": "code",
     "collapsed": false,
     "input": [
      "state_2 = qudot.QuState.init_from_state_list([\"0000\", \"0010\", \"0100\", \"0110\"])\n",
      "print state_2"
     ],
     "language": "python",
     "metadata": {},
     "outputs": [
      {
       "output_type": "stream",
       "stream": "stdout",
       "text": [
        "0.5|0000> + 0.5|0010> + 0.5|0100> + 0.5|0110>\n"
       ]
      }
     ],
     "prompt_number": 6
    },
    {
     "cell_type": "code",
     "collapsed": false,
     "input": [
      "print state_1 == state_2"
     ],
     "language": "python",
     "metadata": {},
     "outputs": [
      {
       "output_type": "stream",
       "stream": "stdout",
       "text": [
        "True\n"
       ]
      }
     ],
     "prompt_number": 7
    },
    {
     "cell_type": "markdown",
     "metadata": {},
     "source": [
      "QuState is built on top of the computational basis. You can initialize with Hadamard elements |+>, |-> but under the scenes it will be converted to the computational basis. This actually lets us test something in quantum computing books. They claim that the bell states are the same in both computational and Hadamard basis. \n",
      "\n",
      "So 1/sqrt(2)|++> + 1/sqrt(2)|--> = 1/sqrt(2)|00> + 1/sqrt(2)|++> \n",
      "\n",
      "I find this hard to believe... I mean common. Let's test it:"
     ]
    },
    {
     "cell_type": "code",
     "collapsed": false,
     "input": [
      "bell_1 = qudot.QuState.init_from_state_list([\"++\",\"--\"])\n",
      "print bell_1"
     ],
     "language": "python",
     "metadata": {},
     "outputs": [
      {
       "output_type": "stream",
       "stream": "stdout",
       "text": [
        "0.707106781187|00> + 0.707106781187|11>\n"
       ]
      }
     ],
     "prompt_number": 8
    },
    {
     "cell_type": "code",
     "collapsed": false,
     "input": [
      "bell_2 = qudot.QuState({\"++\": qudot.ROOT2, \"--\": -qudot.ROOT2})\n",
      "print bell_2"
     ],
     "language": "python",
     "metadata": {},
     "outputs": [
      {
       "output_type": "stream",
       "stream": "stdout",
       "text": [
        "0.707106781187|01> + 0.707106781187|10>\n"
       ]
      }
     ],
     "prompt_number": 9
    },
    {
     "cell_type": "code",
     "collapsed": false,
     "input": [
      "bell_3 = qudot.QuState.init_from_state_list([\"-+\", \"+-\"])\n",
      "print bell_3"
     ],
     "language": "python",
     "metadata": {},
     "outputs": [
      {
       "output_type": "stream",
       "stream": "stdout",
       "text": [
        "0.707106781187|00> + -0.707106781187|11>\n"
       ]
      }
     ],
     "prompt_number": 13
    },
    {
     "cell_type": "code",
     "collapsed": false,
     "input": [
      "bell_4 = qudot.QuState({\"-+\": qudot.ROOT2, \"+-\": -qudot.ROOT2})\n",
      "print bell_4"
     ],
     "language": "python",
     "metadata": {},
     "outputs": [
      {
       "output_type": "stream",
       "stream": "stdout",
       "text": [
        "0.707106781187|01> + -0.707106781187|10>\n"
       ]
      }
     ],
     "prompt_number": 12
    },
    {
     "cell_type": "markdown",
     "metadata": {},
     "source": [
      "Let this be a lesson to you: Nature does not care about your intuition....."
     ]
    },
    {
     "cell_type": "markdown",
     "metadata": {},
     "source": [
      "Moving on, sometimes you want an even superposition of all states in a Hilbert space:"
     ]
    },
    {
     "cell_type": "code",
     "collapsed": false,
     "input": [
      "super_state = qudot.QuState.init_superposition(1)\n",
      "print super_state"
     ],
     "language": "python",
     "metadata": {},
     "outputs": [
      {
       "output_type": "stream",
       "stream": "stdout",
       "text": [
        "0.707106781187|0> + 0.707106781187|1>\n"
       ]
      }
     ],
     "prompt_number": 19
    },
    {
     "cell_type": "code",
     "collapsed": false,
     "input": [
      "super_state = qudot.QuState.init_superposition(2)\n",
      "print super_state"
     ],
     "language": "python",
     "metadata": {},
     "outputs": [
      {
       "output_type": "stream",
       "stream": "stdout",
       "text": [
        "0.5|00> + 0.5|01> + 0.5|10> + 0.5|11>\n"
       ]
      }
     ],
     "prompt_number": 18
    },
    {
     "cell_type": "code",
     "collapsed": false,
     "input": [
      "super_state = qudot.QuState.init_superposition(5)\n",
      "print super_state"
     ],
     "language": "python",
     "metadata": {},
     "outputs": [
      {
       "output_type": "stream",
       "stream": "stdout",
       "text": [
        "0.176776695297|00000> + 0.176776695297|00001> + 0.176776695297|00010> + 0.176776695297|00011> + 0.176776695297|00100> + 0.176776695297|00101> + 0.176776695297|00110> + 0.176776695297|00111> + 0.176776695297|01000> + 0.176776695297|01001> + 0.176776695297|01010> + 0.176776695297|01011> + 0.176776695297|01100> + 0.176776695297|01101> + 0.176776695297|01110> + 0.176776695297|01111> + 0.176776695297|10000> + 0.176776695297|10001> + 0.176776695297|10010> + 0.176776695297|10011> + 0.176776695297|10100> + 0.176776695297|10101> + 0.176776695297|10110> + 0.176776695297|10111> + 0.176776695297|11000> + 0.176776695297|11001> + 0.176776695297|11010> + 0.176776695297|11011> + 0.176776695297|11100> + 0.176776695297|11101> + 0.176776695297|11110> + 0.176776695297|11111>\n"
       ]
      }
     ],
     "prompt_number": 15
    },
    {
     "cell_type": "markdown",
     "metadata": {},
     "source": [
      "And sometimes you just want a bunch of zeros:"
     ]
    },
    {
     "cell_type": "code",
     "collapsed": false,
     "input": [
      "zeros = qudot.QuState.init_zeros(1)\n",
      "print zeros"
     ],
     "language": "python",
     "metadata": {},
     "outputs": [
      {
       "output_type": "stream",
       "stream": "stdout",
       "text": [
        "1|0>\n"
       ]
      }
     ],
     "prompt_number": 20
    },
    {
     "cell_type": "code",
     "collapsed": false,
     "input": [
      "zeros = qudot.QuState.init_zeros(2)\n",
      "print zeros"
     ],
     "language": "python",
     "metadata": {},
     "outputs": [
      {
       "output_type": "stream",
       "stream": "stdout",
       "text": [
        "1|00>\n"
       ]
      }
     ],
     "prompt_number": 21
    },
    {
     "cell_type": "code",
     "collapsed": false,
     "input": [
      "zeros = qudot.QuState.init_zeros(4)\n",
      "print zeros"
     ],
     "language": "python",
     "metadata": {},
     "outputs": [
      {
       "output_type": "stream",
       "stream": "stdout",
       "text": [
        "1|0000>\n"
       ]
      }
     ],
     "prompt_number": 22
    },
    {
     "cell_type": "code",
     "collapsed": false,
     "input": [
      "zeros = qudot.QuState.init_zeros(9)\n",
      "print zeros"
     ],
     "language": "python",
     "metadata": {},
     "outputs": [
      {
       "output_type": "stream",
       "stream": "stdout",
       "text": [
        "1|000000000>\n"
       ]
      }
     ],
     "prompt_number": 24
    },
    {
     "cell_type": "markdown",
     "metadata": {},
     "source": [
      "The last way to initialize a QuState is with a raw column vector:"
     ]
    },
    {
     "cell_type": "code",
     "collapsed": false,
     "input": [
      "state = qudot.QuState.init_from_vector([[qudot.ROOT2],\n",
      "                                        [0],\n",
      "                                        [0],\n",
      "                                        [qudot.ROOT2]])\n",
      "\n",
      "print state"
     ],
     "language": "python",
     "metadata": {},
     "outputs": [
      {
       "output_type": "stream",
       "stream": "stdout",
       "text": [
        "0.707106781187|00> + 0.707106781187|11>\n"
       ]
      }
     ],
     "prompt_number": 26
    },
    {
     "cell_type": "heading",
     "level": 4,
     "metadata": {},
     "source": [
      "QuState Measurements"
     ]
    },
    {
     "cell_type": "markdown",
     "metadata": {},
     "source": [
      "As we all know, the strangest thing about quantum mechanics is measurements. We know that we can only predict probabilistic outcomes of measurements. The QuState incorporates this into it's design. You can ask for the possible measurement of a state and you will get back a map where the key is the possible state and the value is the probability of getting that state. Also, you can ask about the possible measurements of a specific qubit. For example, if your state is a|0100> + b|1101> + c|1111> and you ask the for the possible measurements of qubit 2, you will get |1> with probability 1. Whereas qubit 1 can be |0> or |1>.\n",
      "\n",
      "Also, you can perform a measurement on the state. A measurement **will collapse** the state. So after you perform a measurement the QuState will be in a definite state not a superposition. Note that the QuState is designed to respect the probabilities when collapsing. That means if you have an ensemble of QuStates, as the ensembles get larger then the probability of collapsing to a specified state will approach the |amplitude|^2"
     ]
    },
    {
     "cell_type": "code",
     "collapsed": false,
     "input": [
      "state = qudot.QuState({\"0000\": qudot.ROOT2, \"0010\": .5, \"0110\": .5})\n",
      "print state"
     ],
     "language": "python",
     "metadata": {},
     "outputs": [
      {
       "output_type": "stream",
       "stream": "stdout",
       "text": [
        "0.707106781187|0000> + 0.5|0010> + 0.5|0110>\n"
       ]
      }
     ],
     "prompt_number": 27
    },
    {
     "cell_type": "code",
     "collapsed": false,
     "input": [
      "print state.possible_measurements()"
     ],
     "language": "python",
     "metadata": {},
     "outputs": [
      {
       "output_type": "stream",
       "stream": "stdout",
       "text": [
        "{'|0000>': 0.49999999999999989, '|0010>': 0.25, '|0110>': 0.25}\n"
       ]
      }
     ],
     "prompt_number": 28
    },
    {
     "cell_type": "code",
     "collapsed": false,
     "input": [
      "# possible measurements of first qubit\n",
      "print state.possible_measurements(qubit_index=1)"
     ],
     "language": "python",
     "metadata": {},
     "outputs": [
      {
       "output_type": "stream",
       "stream": "stdout",
       "text": [
        "{'|0>': 0.99999999999999989}\n"
       ]
      }
     ],
     "prompt_number": 30
    },
    {
     "cell_type": "code",
     "collapsed": false,
     "input": [
      "print state.possible_measurements(2)"
     ],
     "language": "python",
     "metadata": {},
     "outputs": [
      {
       "output_type": "stream",
       "stream": "stdout",
       "text": [
        "{'|0>': 0.74999999999999989, '|1>': 0.25}\n"
       ]
      }
     ],
     "prompt_number": 31
    },
    {
     "cell_type": "code",
     "collapsed": false,
     "input": [
      "print state.possible_measurements(3)"
     ],
     "language": "python",
     "metadata": {},
     "outputs": [
      {
       "output_type": "stream",
       "stream": "stdout",
       "text": [
        "{'|0>': 0.49999999999999989, '|1>': 0.5}\n"
       ]
      }
     ],
     "prompt_number": 33
    },
    {
     "cell_type": "code",
     "collapsed": false,
     "input": [
      "print state.possible_measurements(4)"
     ],
     "language": "python",
     "metadata": {},
     "outputs": [
      {
       "output_type": "stream",
       "stream": "stdout",
       "text": [
        "{'|0>': 0.99999999999999989}\n"
       ]
      }
     ],
     "prompt_number": 34
    },
    {
     "cell_type": "code",
     "collapsed": false,
     "input": [
      "state.measure()\n",
      "print state"
     ],
     "language": "python",
     "metadata": {},
     "outputs": [
      {
       "output_type": "stream",
       "stream": "stdout",
       "text": [
        "1.0|0000>\n"
       ]
      }
     ],
     "prompt_number": 36
    },
    {
     "cell_type": "markdown",
     "metadata": {},
     "source": [
      "Now lets explore measuring ensembles. As we noted earlier, as our ensemble gets larger than the probability of measuring a specific state approaches its amplitude magnitude squared. However, if you have very few states then the probabilities will not be exact."
     ]
    },
    {
     "cell_type": "code",
     "collapsed": false,
     "input": [
      "state = qudot.QuState({\"0000\": qudot.ROOT2, \"0010\": .5, \"0110\": .5})\n",
      "print state"
     ],
     "language": "python",
     "metadata": {},
     "outputs": [
      {
       "output_type": "stream",
       "stream": "stdout",
       "text": [
        "0.707106781187|0000> + 0.5|0010> + 0.5|0110>\n"
       ]
      }
     ],
     "prompt_number": 38
    },
    {
     "cell_type": "markdown",
     "metadata": {},
     "source": [
      "Here we expect to see state |0000> 50% of the time, state |0010> 25% of the time and state |0110> 25% of the time"
     ]
    },
    {
     "cell_type": "code",
     "collapsed": false,
     "input": [
      "ensemble_10 = [ qudot.QuState({\"0000\": qudot.ROOT2, \"0010\": .5, \"0110\": .5}) for i in range(0, 10)]"
     ],
     "language": "python",
     "metadata": {},
     "outputs": [],
     "prompt_number": 40
    },
    {
     "cell_type": "code",
     "collapsed": false,
     "input": [
      "def tally_measurements(ensemble):\n",
      "    results_map = {}\n",
      "    for state in ensemble:\n",
      "        state.measure()\n",
      "        key = str(state)\n",
      "        if key in results_map:\n",
      "            results_map[key] = results_map[key] + 1\n",
      "        else:\n",
      "            results_map[key] = 1\n",
      "            \n",
      "    return results_map"
     ],
     "language": "python",
     "metadata": {},
     "outputs": [],
     "prompt_number": 41
    },
    {
     "cell_type": "code",
     "collapsed": false,
     "input": [
      "print tally_measurements(ensemble_10)"
     ],
     "language": "python",
     "metadata": {},
     "outputs": [
      {
       "output_type": "stream",
       "stream": "stdout",
       "text": [
        "{'1.0|0000>': 4, '1.0|0010>': 3, '1.0|0110>': 3}\n"
       ]
      }
     ],
     "prompt_number": 42
    },
    {
     "cell_type": "markdown",
     "metadata": {},
     "source": [
      "So, not perfect. We expected 5, 2.5, 2.5 :-) If you do not get this joke think about what quantum mechanics means!"
     ]
    },
    {
     "cell_type": "markdown",
     "metadata": {},
     "source": [
      "Lets start to see how increasing the ensemble size changes things:"
     ]
    },
    {
     "cell_type": "code",
     "collapsed": false,
     "input": [
      "ensemble_100 = [ qudot.QuState({\"0000\": qudot.ROOT2, \"0010\": .5, \"0110\": .5}) for i in range(0, 100)]\n",
      "print tally_measurements(ensemble_100)\n",
      "del ensemble_100"
     ],
     "language": "python",
     "metadata": {},
     "outputs": [
      {
       "output_type": "stream",
       "stream": "stdout",
       "text": [
        "{'1.0|0000>': 49, '1.0|0010>': 19, '1.0|0110>': 32}\n"
       ]
      }
     ],
     "prompt_number": 47
    },
    {
     "cell_type": "code",
     "collapsed": false,
     "input": [
      "ensemble_1000 = [ qudot.QuState({\"0000\": qudot.ROOT2, \"0010\": .5, \"0110\": .5}) for i in range(0, 1000)]\n",
      "print tally_measurements(ensemble_1000)\n",
      "del ensemble_1000"
     ],
     "language": "python",
     "metadata": {},
     "outputs": [
      {
       "output_type": "stream",
       "stream": "stdout",
       "text": [
        "{'1.0|0000>': 508, '1.0|0010>': 239, '1.0|0110>': 253}\n"
       ]
      }
     ],
     "prompt_number": 48
    },
    {
     "cell_type": "code",
     "collapsed": false,
     "input": [
      "ensemble_10000 = [ qudot.QuState({\"0000\": qudot.ROOT2, \"0010\": .5, \"0110\": .5}) for i in range(0, 10000)]\n",
      "print tally_measurements(ensemble_10000)\n",
      "del ensemble_10000"
     ],
     "language": "python",
     "metadata": {},
     "outputs": [
      {
       "output_type": "stream",
       "stream": "stdout",
       "text": [
        "{'1.0|0000>': 4931, '1.0|0010>': 2541, '1.0|0110>': 2528}\n"
       ]
      }
     ],
     "prompt_number": 49
    },
    {
     "cell_type": "code",
     "collapsed": false,
     "input": [
      "ensemble_100000 = [ qudot.QuState({\"0000\": qudot.ROOT2, \"0010\": .5, \"0110\": .5}) for i in range(0, 100000)]\n",
      "print tally_measurements(ensemble_100000)\n",
      "del ensemble_100000"
     ],
     "language": "python",
     "metadata": {},
     "outputs": [
      {
       "output_type": "stream",
       "stream": "stdout",
       "text": [
        "{'1.0|0000>': 49816, '1.0|0010>': 25220, '1.0|0110>': 24964}\n"
       ]
      }
     ],
     "prompt_number": 50
    },
    {
     "cell_type": "markdown",
     "metadata": {},
     "source": [
      "So hopefully this explains how your probabilities approach theory as your ensemble gets larger. Its basically the law of large numbers. This is a summary of the results for state |0000>. The theory predicts we should get this state 50% of the time, as the ensemble gets larger, we get closer to the theoretical result:\n",
      "\n",
      "* For     10 states: 40%\n",
      "* For    100 states: 49%\n",
      "* For   1000 states: 50.8%\n",
      "* For  10000 states: 49.3%\n",
      "* For 100000 states: 49.816%\n"
     ]
    },
    {
     "cell_type": "heading",
     "level": 4,
     "metadata": {},
     "source": [
      "Applying QuGates to QuStates"
     ]
    },
    {
     "cell_type": "markdown",
     "metadata": {},
     "source": [
      "Ok great, now we are experts on QuStates! So far we have not done any actual quantum computing with QuStates. Let's remedy that! To do quantum computing we need to start applying gates to QuStates. A QuState has the *apply_gate(qu_gate, qubit_list=None)* method. This method applies a QuGate (such as qudot.X, qudot.Z) to the entire state OR to specific qubits of the state.\n",
      "\n",
      "One important thing to note is that *apply_gate* will automatically scale your QuGate to the appropriate dimension. For example, qudot.X is a 2x2 matrix, but what if your state is 0.707|0000> + 0.5|0010> + 0.5|0110>? This would require qudot.X to be a 16x16 matrix. Don't worry! QuDotPy to the rescue! QuDotPy is smart, it recognizes this fact and tensors the gates with themselves until the appropriate dimension is reached. In a similar way, we are able to build larger matrices to apply a gate to a specific qubits. This way you can apply a QuGate to only the 1st and 3rd qubits if that is what your heart desires. Lets see this in action "
     ]
    },
    {
     "cell_type": "code",
     "collapsed": false,
     "input": [
      "state = qudot.QuState({\"0000\": qudot.ROOT2, \"0010\": .5, \"0110\": .5})\n",
      "print state"
     ],
     "language": "python",
     "metadata": {},
     "outputs": [
      {
       "output_type": "stream",
       "stream": "stdout",
       "text": [
        "0.707106781187|0000> + 0.5|0010> + 0.5|0110>\n"
       ]
      }
     ],
     "prompt_number": 3
    },
    {
     "cell_type": "markdown",
     "metadata": {},
     "source": [
      "Now if I apply an X gate to the first qubit:"
     ]
    },
    {
     "cell_type": "code",
     "collapsed": false,
     "input": [
      "state.apply_gate(qudot.X, [1])\n",
      "print state"
     ],
     "language": "python",
     "metadata": {},
     "outputs": [
      {
       "output_type": "stream",
       "stream": "stdout",
       "text": [
        "(0.707106781187+0j)|1000> + (0.5+0j)|1010> + (0.5+0j)|1110>\n"
       ]
      }
     ],
     "prompt_number": 52
    },
    {
     "cell_type": "markdown",
     "metadata": {},
     "source": [
      "Yay! it worked. NOTE THAT THE STATE CHANGED! It does not return a new state! Lets reverse this"
     ]
    },
    {
     "cell_type": "code",
     "collapsed": false,
     "input": [
      "state.apply_gate(qudot.X, [1])\n",
      "print state"
     ],
     "language": "python",
     "metadata": {},
     "outputs": [
      {
       "output_type": "stream",
       "stream": "stdout",
       "text": [
        "(0.707106781187+0j)|0000> + (0.5+0j)|0010> + (0.5+0j)|0110>\n"
       ]
      }
     ],
     "prompt_number": 53
    },
    {
     "cell_type": "code",
     "collapsed": false,
     "input": [
      "# apply to the whole state\n",
      "state.apply_gate(qudot.X)\n",
      "print state"
     ],
     "language": "python",
     "metadata": {},
     "outputs": [
      {
       "output_type": "stream",
       "stream": "stdout",
       "text": [
        "(0.5+0j)|1001> + (0.5+0j)|1101> + (0.707106781187+0j)|1111>\n"
       ]
      }
     ],
     "prompt_number": 54
    },
    {
     "cell_type": "code",
     "collapsed": false,
     "input": [
      "# reverse\n",
      "state.apply_gate(qudot.X)\n",
      "print state"
     ],
     "language": "python",
     "metadata": {},
     "outputs": [
      {
       "output_type": "stream",
       "stream": "stdout",
       "text": [
        "(0.707106781187+0j)|0000> + (0.5+0j)|0010> + (0.5+0j)|0110>\n"
       ]
      }
     ],
     "prompt_number": 55
    },
    {
     "cell_type": "code",
     "collapsed": false,
     "input": [
      "# apply to multiple qubits\n",
      "state.apply_gate(qudot.X, [1, 3])\n",
      "print state"
     ],
     "language": "python",
     "metadata": {},
     "outputs": [
      {
       "output_type": "stream",
       "stream": "stdout",
       "text": [
        "(0.5+0j)|1000> + (0.707106781187+0j)|1010> + (0.5+0j)|1100>\n"
       ]
      }
     ],
     "prompt_number": 4
    },
    {
     "cell_type": "markdown",
     "metadata": {},
     "source": [
      "Now quantum computing books tell us that if we have the state |00> and we apply H to the first qubit, then pass the result through a CNOT gate we will get a bell state |00> + |11>. Is that true?"
     ]
    },
    {
     "cell_type": "code",
     "collapsed": false,
     "input": [
      "state = qudot.QuState.init_zeros(2)\n",
      "print state"
     ],
     "language": "python",
     "metadata": {},
     "outputs": [
      {
       "output_type": "stream",
       "stream": "stdout",
       "text": [
        "1|00>\n"
       ]
      }
     ],
     "prompt_number": 5
    },
    {
     "cell_type": "code",
     "collapsed": false,
     "input": [
      "state.apply_gate(qudot.H, [1])\n",
      "state.apply_gate(qudot.CNOT)\n",
      "print state"
     ],
     "language": "python",
     "metadata": {},
     "outputs": [
      {
       "output_type": "stream",
       "stream": "stdout",
       "text": [
        "(0.707106781187+0j)|00> + (0.707106781187+0j)|11>\n"
       ]
      }
     ],
     "prompt_number": 6
    },
    {
     "cell_type": "markdown",
     "metadata": {},
     "source": [
      "sweeeeeet! ship it!"
     ]
    },
    {
     "cell_type": "code",
     "collapsed": false,
     "input": [
      "test_input = qudot.QuState.init_zeros(2)\n",
      "test_input.apply_gate(qudot.H, [1])\n",
      "test_input.apply_gate(qudot.CNOT)\n",
      "test_input.apply_gate(qudot.H, [1])\n",
      "\n",
      "print test_input"
     ],
     "language": "python",
     "metadata": {},
     "outputs": [
      {
       "output_type": "stream",
       "stream": "stdout",
       "text": [
        "(0.5+0j)|00> + (0.5+0j)|01> + (0.5+0j)|10> + (-0.5+0j)|11>\n"
       ]
      }
     ],
     "prompt_number": 12
    },
    {
     "cell_type": "markdown",
     "metadata": {},
     "source": [
      "That does it for QuState! I think after these last two examples you see how to develop quantum circuits. However, QuDotPy makes it even easier to build circuits! It also allows you to step through a quantum circuit debugger style! Lets see how"
     ]
    },
    {
     "cell_type": "heading",
     "level": 2,
     "metadata": {},
     "source": [
      "Fun with QuCircuit"
     ]
    },
    {
     "cell_type": "markdown",
     "metadata": {},
     "source": [
      "Now you should have gotten the idea from last section that it will be very easy to implement a quantum circuit: just use QuState.apply_gate() repeatedly for your design. You are pretty much right, but we can do even better. We would like to abstract away the actual circuit from the input state. That way we can run the circuit on different input states and examine the output. Also, wouldn't it be cool if you can step through a quantum circuit like you step through a debugger in your code? I think so! That is basically how QuCircuit was born.\n",
      "\n",
      "The main idea behind QuCircuit is that a quantum circuit can be thought of as a list of operations. Each operation tells you to apply a quantum gate to certain qubits or an entire state. So, QuCircuit is initialized with a list of tuples. Each tuple represents a single operation and has the form (QuGate, qubit_list or None). The first element of the tuple is the QuGate to apply. The second argument is either a qubit_list to apply the gate to or None, which will apply the QuGate to the entire state.\n",
      "\n",
      "To run a QuCircuit you must first set the *in_qu_state* attribute. This gives the input state that the circuit will run on. Then you just call *run_circuit()* and *in_qu_state* will have the result. You can also step through the circuit one operation at a time using the *step_circuit()* method. This will return your current index on the operations list. You can always check on which operation you are on by inspecting the *step_op_index* attribute. Also, if you want to reset the circuit to the beginning you can call the *reset_circuit()* method.\n",
      "\n",
      "Lets look at an example by making a circuit that produces Bell states. This circuit has the following mappings (excluding normalization constants):\n",
      "\n",
      "* |00> ---> |00> + |11>  a.k.a Phi+\n",
      "* |10> ---> |00> - |11>  a.k.a Phi-\n",
      "* |01> ---> |01> + |10>  a.k.a Psi+\n",
      "* |11> ---> |01> - |10>  a.k.a Psi-"
     ]
    },
    {
     "cell_type": "code",
     "collapsed": false,
     "input": [
      "bell_circuit = qudot.QuCircuit([(qudot.H, [1]), (qudot.CNOT, None)])"
     ],
     "language": "python",
     "metadata": {},
     "outputs": [],
     "prompt_number": 13
    },
    {
     "cell_type": "code",
     "collapsed": false,
     "input": [
      "input_state = qudot.QuState.init_from_state_list([\"00\"])\n",
      "print \"in: \" + str(input_state)\n",
      "bell_circuit.in_qu_state = input_state\n",
      "output = bell_circuit.run_circuit()\n",
      "print \"out: \" + str(output)"
     ],
     "language": "python",
     "metadata": {},
     "outputs": [
      {
       "output_type": "stream",
       "stream": "stdout",
       "text": [
        "in: 1.0|00>\n",
        "out: (0.707106781187+0j)|00> + (0.707106781187+0j)|11>\n"
       ]
      }
     ],
     "prompt_number": 17
    },
    {
     "cell_type": "code",
     "collapsed": false,
     "input": [
      "input_state = qudot.QuState.init_from_state_list([\"10\"])\n",
      "print \"in: \" + str(input_state)\n",
      "bell_circuit.in_qu_state = input_state\n",
      "output = bell_circuit.run_circuit()\n",
      "print \"out: \" + str(output)"
     ],
     "language": "python",
     "metadata": {},
     "outputs": [
      {
       "output_type": "stream",
       "stream": "stdout",
       "text": [
        "in: 1.0|10>\n",
        "out: (0.707106781187+0j)|00> + (-0.707106781187+0j)|11>\n"
       ]
      }
     ],
     "prompt_number": 18
    },
    {
     "cell_type": "code",
     "collapsed": false,
     "input": [
      "input_state = qudot.QuState.init_from_state_list([\"01\"])\n",
      "print \"in: \" + str(input_state)\n",
      "bell_circuit.in_qu_state = input_state\n",
      "output = bell_circuit.run_circuit()\n",
      "print \"out: \" + str(output)"
     ],
     "language": "python",
     "metadata": {},
     "outputs": [
      {
       "output_type": "stream",
       "stream": "stdout",
       "text": [
        "in: 1.0|01>\n",
        "out: (0.707106781187+0j)|01> + (0.707106781187+0j)|10>\n"
       ]
      }
     ],
     "prompt_number": 19
    },
    {
     "cell_type": "code",
     "collapsed": false,
     "input": [
      "input_state = qudot.QuState.init_from_state_list([\"11\"])\n",
      "print \"in: \" + str(input_state)\n",
      "bell_circuit.in_qu_state = input_state\n",
      "output = bell_circuit.run_circuit()\n",
      "print \"out: \" + str(output)"
     ],
     "language": "python",
     "metadata": {},
     "outputs": [
      {
       "output_type": "stream",
       "stream": "stdout",
       "text": [
        "in: 1.0|11>\n",
        "out: (0.707106781187+0j)|01> + (-0.707106781187+0j)|10>\n"
       ]
      }
     ],
     "prompt_number": 20
    },
    {
     "cell_type": "markdown",
     "metadata": {},
     "source": [
      "Ship it! now lets show an example of stepping through the circuit:"
     ]
    },
    {
     "cell_type": "code",
     "collapsed": false,
     "input": [
      "bell_circuit.in_qu_state = qudot.QuState.init_zeros(2)\n",
      "print str(bell_circuit.step_op_index) + \" \" + str(bell_circuit.in_qu_state)\n",
      "bell_circuit.step_circuit()\n",
      "print str(bell_circuit.step_op_index) + \" \" + str(bell_circuit.in_qu_state)\n",
      "bell_circuit.step_circuit()\n",
      "print str(bell_circuit.step_op_index) + \" \" + str(bell_circuit.in_qu_state)"
     ],
     "language": "python",
     "metadata": {},
     "outputs": [
      {
       "output_type": "stream",
       "stream": "stdout",
       "text": [
        "0 1|00>\n",
        "1 (0.707106781187+0j)|00> + (0.707106781187+0j)|10>\n",
        "0 (0.707106781187+0j)|00> + (0.707106781187+0j)|11>\n"
       ]
      }
     ],
     "prompt_number": 21
    },
    {
     "cell_type": "markdown",
     "metadata": {},
     "source": [
      "When the step_op_index goes back to 0, the circuit is done and back at the beginning. "
     ]
    },
    {
     "cell_type": "heading",
     "level": 2,
     "metadata": {},
     "source": [
      "Thats All Folks!"
     ]
    },
    {
     "cell_type": "markdown",
     "metadata": {},
     "source": [
      "I had a lot of fun both coding QuDotPy and writing this usage tutorial. I hope you will have just as much fun using it! If you find any errors/typos please email me at psakkaris@gmail.com\n",
      "\n",
      "Perry Sakkaris"
     ]
    }
   ],
   "metadata": {}
  }
 ]
}